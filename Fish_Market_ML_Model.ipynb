{
 "cells": [
  {
   "cell_type": "markdown",
   "id": "478ce13d",
   "metadata": {},
   "source": [
    "# Fish Market Dataset - Machine Learning Model"
   ]
  },
  {
   "cell_type": "markdown",
   "id": "b0feb801",
   "metadata": {},
   "source": [
    "## Step 1: Load and Explore Dataset"
   ]
  },
  {
   "cell_type": "code",
   "execution_count": null,
   "id": "16e88463",
   "metadata": {},
   "outputs": [
    {
     "ename": "",
     "evalue": "",
     "output_type": "error",
     "traceback": [
      "\u001b[1;31mRunning cells with 'Python 3.13.2' requires the ipykernel package.\n",
      "\u001b[1;31mRun the following command to install 'ipykernel' into the Python environment. \n",
      "\u001b[1;31mCommand: '/opt/homebrew/bin/python3 -m pip install ipykernel -U --user --force-reinstall'"
     ]
    }
   ],
   "source": [
    "\n",
    "import pandas as pd\n",
    "\n",
    "# Load dataset\n",
    "df = pd.read_csv(\"Fish.csv\")\n",
    "\n",
    "# Display first few rows\n",
    "df.head()\n"
   ]
  },
  {
   "cell_type": "code",
   "execution_count": null,
   "id": "9d2e64d0",
   "metadata": {},
   "outputs": [
    {
     "data": {
      "text/plain": [
       "<class 'pandas.core.frame.DataFrame'>\n",
       "RangeIndex: 159 entries, 0 to 158\n",
       "Data columns (total 7 columns):\n",
       " #   Column   Non-Null Count  Dtype  \n",
       "---  ------   --------------  -----  \n",
       " 0   Species  159 non-null    object \n",
       " 1   Weight   159 non-null    float64\n",
       " 2   Length1  159 non-null    float64\n",
       " 3   Length2  159 non-null    float64\n",
       " 4   Length3  159 non-null    float64\n",
       " 5   Height   159 non-null    float64\n",
       " 6   Width    159 non-null    float64\n",
       "dtypes: float64(6), object(1)\n",
       "memory usage: 8.8+ KB\n"
      ]
     },
     "metadata": {},
     "output_type": "display_data"
    }
   ],
   "source": [
    "\n",
    "# Check data types and missing values\n",
    "df.info()\n",
    "df.isnull().sum()\n"
   ]
  },
  {
   "cell_type": "code",
   "execution_count": null,
   "id": "31992151",
   "metadata": {},
   "outputs": [
    {
     "data": {
      "text/plain": [
       "<class 'pandas.core.frame.DataFrame'>\n",
       "RangeIndex: 159 entries, 0 to 158\n",
       "Data columns (total 7 columns):\n",
       " #   Column   Non-Null Count  Dtype  \n",
       "---  ------   --------------  -----  \n",
       " 0   Species  159 non-null    object \n",
       " 1   Weight   159 non-null    float64\n",
       " 2   Length1  159 non-null    float64\n",
       " 3   Length2  159 non-null    float64\n",
       " 4   Length3  159 non-null    float64\n",
       " 5   Height   159 non-null    float64\n",
       " 6   Width    159 non-null    float64\n",
       "dtypes: float64(6), object(1)\n",
       "memory usage: 8.8+ KB\n"
      ]
     },
     "metadata": {},
     "output_type": "display_data"
    }
   ],
   "source": [
    "\n",
    "# Check data types and missing values\n",
    "df.info()\n",
    "df.isnull().sum()\n"
   ]
  },
  {
   "cell_type": "markdown",
   "id": "56e5e8ad",
   "metadata": {},
   "source": [
    "## Step 2: Exploratory Data Analysis (EDA)"
   ]
  },
  {
   "cell_type": "code",
   "execution_count": null,
   "id": "170c2a98",
   "metadata": {},
   "outputs": [
    {
     "data": {
      "text/plain": [
       "Traceback (most recent call last):\n",
       "  File \"/Users/chetanthakur/.vscode/extensions/ms-python.python-2025.2.0-darwin-arm64/python_files/python_server.py\", line 133, in exec_user_input\n",
       "    retval = callable_(user_input, user_globals)\n",
       "  File \"<string>\", line 2, in <module>\n",
       "ModuleNotFoundError: No module named 'matplotlib'\n",
       "\n"
      ]
     },
     "metadata": {},
     "output_type": "display_data"
    }
   ],
   "source": [
    "\n",
    "import matplotlib.pyplot as plt\n",
    "import seaborn as sns\n",
    "\n",
    "# Check distribution of fish species\n",
    "sns.countplot(x='Species', data=df)\n",
    "plt.xticks(rotation=45)\n",
    "plt.title(\"Distribution of Fish Species\")\n",
    "plt.show()\n"
   ]
  },
  {
   "cell_type": "code",
   "execution_count": null,
   "id": "654bd337",
   "metadata": {},
   "outputs": [
    {
     "data": {
      "text/plain": [
       "Traceback (most recent call last):\n",
       "  File \"/Users/chetanthakur/.vscode/extensions/ms-python.python-2025.2.0-darwin-arm64/python_files/python_server.py\", line 133, in exec_user_input\n",
       "    retval = callable_(user_input, user_globals)\n",
       "  File \"<string>\", line 3, in <module>\n",
       "NameError: name 'sns' is not defined\n",
       "\n"
      ]
     },
     "metadata": {},
     "output_type": "display_data"
    }
   ],
   "source": [
    "\n",
    "# Pairplot to visualize relationships\n",
    "sns.pairplot(df, hue=\"Species\")\n",
    "plt.show()\n"
   ]
  },
  {
   "cell_type": "markdown",
   "id": "d2f87173",
   "metadata": {},
   "source": [
    "## Step 3: Data Preprocessing"
   ]
  },
  {
   "cell_type": "code",
   "execution_count": null,
   "id": "159c51fd",
   "metadata": {},
   "outputs": [],
   "source": [
    "\n",
    "from sklearn.preprocessing import LabelEncoder\n",
    "\n",
    "# Encode species labels\n",
    "encoder = LabelEncoder()\n",
    "df['Species'] = encoder.fit_transform(df['Species'])\n"
   ]
  },
  {
   "cell_type": "code",
   "execution_count": null,
   "id": "71663e16",
   "metadata": {},
   "outputs": [],
   "source": [
    "\n",
    "from sklearn.model_selection import train_test_split\n",
    "\n",
    "# Define features (X) and target (y) for regression\n",
    "X = df.drop(columns=[\"Weight\"])  \n",
    "y = df[\"Weight\"]\n",
    "\n",
    "# Split data\n",
    "X_train, X_test, y_train, y_test = train_test_split(X, y, test_size=0.2, random_state=42)\n"
   ]
  },
  {
   "cell_type": "markdown",
   "id": "368611e9",
   "metadata": {},
   "source": [
    "## Step 4: Train Regression Model (Predicting Weight)"
   ]
  },
  {
   "cell_type": "code",
   "execution_count": null,
   "id": "26e17b7a",
   "metadata": {},
   "outputs": [
    {
     "data": {
      "text/plain": [
       "Mean Absolute Error: 97.29791305330404\n",
       "Mean Squared Error: 13727.816553006542\n",
       "R-squared Score: 0.9034878699241472\n"
      ]
     },
     "metadata": {},
     "output_type": "display_data"
    }
   ],
   "source": [
    "\n",
    "from sklearn.linear_model import LinearRegression\n",
    "from sklearn.metrics import mean_absolute_error, mean_squared_error, r2_score\n",
    "\n",
    "# Train model\n",
    "model = LinearRegression()\n",
    "model.fit(X_train, y_train)\n",
    "\n",
    "# Predictions\n",
    "y_pred = model.predict(X_test)\n",
    "\n",
    "# Model Evaluation\n",
    "print(\"Mean Absolute Error:\", mean_absolute_error(y_test, y_pred))\n",
    "print(\"Mean Squared Error:\", mean_squared_error(y_test, y_pred))\n",
    "print(\"R-squared Score:\", r2_score(y_test, y_pred))\n"
   ]
  },
  {
   "cell_type": "code",
   "execution_count": null,
   "id": "772f7865",
   "metadata": {},
   "outputs": [],
   "source": [
    "\n",
    "import joblib\n",
    "\n",
    "# Save the model\n",
    "joblib.dump(model, \"fish_market_model.pkl\")\n",
    "\n",
    "# Load the model for future predictions\n",
    "loaded_model = joblib.load(\"fish_market_model.pkl\")\n"
   ]
  },
  {
   "cell_type": "code",
   "execution_count": null,
   "id": "5c75a504",
   "metadata": {},
   "outputs": [],
   "source": []
  },
  {
   "cell_type": "code",
   "execution_count": null,
   "id": "5e31dc49",
   "metadata": {},
   "outputs": [],
   "source": []
  },
  {
   "cell_type": "code",
   "execution_count": null,
   "id": "4119ba30",
   "metadata": {},
   "outputs": [],
   "source": []
  },
  {
   "cell_type": "code",
   "execution_count": null,
   "id": "9e5e4310",
   "metadata": {},
   "outputs": [],
   "source": []
  }
 ],
 "metadata": {
  "kernelspec": {
   "display_name": "Python 3",
   "language": "python",
   "name": "python3"
  },
  "language_info": {
   "name": "python",
   "version": "3.13.2"
  }
 },
 "nbformat": 4,
 "nbformat_minor": 5
}
